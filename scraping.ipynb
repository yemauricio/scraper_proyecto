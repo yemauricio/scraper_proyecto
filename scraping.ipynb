{
 "cells": [
  {
   "cell_type": "code",
   "execution_count": 1,
   "metadata": {},
   "outputs": [],
   "source": [
    "import pandas as pd\n",
    "from selenium import webdriver \n",
    "from selenium.webdriver.common.keys import Keys\n",
    "import numpy as np\n",
    "import time"
   ]
  },
  {
   "cell_type": "code",
   "execution_count": 3,
   "metadata": {},
   "outputs": [],
   "source": [
    "google_scholar = \"https://scholar.google.com/scholar?start=0&hl=es&as_sdt=0,5&q={0}\"\n",
    "\n",
    "google_drive = r\"D:\\proyectos\\scraper_proyecto\\chromedriver_win32\\chromedriver.exe\"\n",
    "\n",
    "xpath_search ='//*[@id=\"gs_hdr_tsi\"]'\n",
    "\n",
    "xpath_list_paper = '//*[@id=\"gs_res_ccl_mid\"]'\n",
    "\n",
    "order_date = '//*[@id=\"gs_bdy_sb_in\"]/ul[1]/li[2]/a'\n",
    "\n",
    "key_words = [\"covid+mask+register\"]"
   ]
  },
  {
   "cell_type": "code",
   "execution_count": null,
   "metadata": {
    "scrolled": true
   },
   "outputs": [],
   "source": [
    "\n",
    "def clean_results(df_result):\n",
    "    \"\"\"\n",
    "    Cleaning dataframe with title and link for paper\n",
    "    \"\"\"\n",
    "    \n",
    "    df_result.dropna(inplace=True)\n",
    "    df_result.drop_duplicates(inplace=True)\n",
    "    df_result.drop_duplicates(subset=\"link\", keep=False,inplace=True)\n",
    "    df_result.drop_duplicates(subset=\"name\",keep=False, inplace=True)\n",
    "\n",
    "    df_result = df_result[df_result[\"name\"] != '']\n",
    "    df_result = df_result[df_result[\"link\"] != '']\n",
    "    df_result = df_result[df_result[\"link\"] != 'javascript:void(0)']\n",
    "    df_result = df_result.reset_index().groupby([\"name\",\"link\",\"num_page\"]).count().reset_index()\n",
    "    df_result = df_result[df_result[\"index\"]==1].drop(columns={\"index\"})\n",
    "    return df_result\n",
    "\n",
    "\n",
    "driver = webdriver.Chrome(google_drive) \n",
    "## Initializae google scholar webpage\n",
    "link_to_search = google_scholar.format(key_words[0])\n",
    "driver.get(link_to_search)\n",
    "next_page = True\n",
    "page_num = 1\n",
    "stop = 50\n",
    "df_elements = pd.DataFrame({\"name\":[],\"link\":[],\"num_page\":[]})\n",
    "# the next loop tried to obtain onformation from all the index pages sadly it doesn't have information to stop\n",
    "# I added an stoper at 50 pages\n",
    "while next_page:\n",
    "\n",
    "    link_to_ordered = link_to_search.replace(\"start=0\",\"start=\"+str(page_num*10))\n",
    "    \n",
    "    time.sleep(10) \n",
    "    search_list_paper = driver.find_element_by_xpath(xpath_list_paper) \n",
    "    all_papers_page = search_list_paper.find_elements_by_tag_name(\"div\")\n",
    "    elements_in = 0\n",
    "    for i in all_papers_page: \n",
    "        try:\n",
    "            elements_in += 1\n",
    "            name = i.find_element_by_tag_name(\"a\").get_attribute(\"text\")\n",
    "            link = i.find_element_by_tag_name(\"a\").get_attribute(\"href\")\n",
    "            temp = pd.DataFrame({\"name\":[name],\"link\":[link], \"num_page\":[page_num]})\n",
    "            df_elements = df_elements.append(temp, ignore_index=True)\n",
    "        except:\n",
    "            continue\n",
    "    print(\"elements in this page: \", elements_in)\n",
    "    page_num += 1        \n",
    "    df_results = clean_results(df_elements)\n",
    "    time.sleep(np.random.uniform(11,17)) \n",
    "\n",
    "    driver.quit()\n",
    "    driver = webdriver.Chrome(google_drive) \n",
    "    driver.get(link_to_ordered)\n",
    "    try:\n",
    "        driver.get(link_to_ordered)\n",
    "        next_page = True\n",
    "    except:\n",
    "        next_page = False\n",
    "    # stoping process   \n",
    "    if page_num == stop:\n",
    "        next_page = False\n",
    "        \n",
    "df_results.to_csv(\"articles_related_with_covid_mask.csv\")\n",
    "\n",
    "\n",
    "driver.quit()"
   ]
  }
 ],
 "metadata": {
  "kernelspec": {
   "display_name": "Python 3",
   "language": "python",
   "name": "python3"
  },
  "language_info": {
   "codemirror_mode": {
    "name": "ipython",
    "version": 3
   },
   "file_extension": ".py",
   "mimetype": "text/x-python",
   "name": "python",
   "nbconvert_exporter": "python",
   "pygments_lexer": "ipython3",
   "version": "3.6.4"
  }
 },
 "nbformat": 4,
 "nbformat_minor": 2
}
